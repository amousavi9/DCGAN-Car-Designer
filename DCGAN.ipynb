{
  "nbformat": 4,
  "nbformat_minor": 0,
  "metadata": {
    "colab": {
      "provenance": [],
      "collapsed_sections": []
    },
    "kernelspec": {
      "name": "python3",
      "display_name": "Python 3"
    },
    "language_info": {
      "name": "python"
    },
    "gpuClass": "standard",
    "accelerator": "GPU"
  },
  "cells": [
    {
      "cell_type": "code",
      "source": [
        "import numpy as np\n",
        "from tqdm import tqdm\n",
        "import matplotlib.pyplot as plt\n",
        "\n",
        "import tensorflow as tf\n",
        "from tensorflow import keras\n",
        "from tensorflow.keras import layers"
      ],
      "metadata": {
        "id": "l5XRjF0gB3PY"
      },
      "execution_count": 67,
      "outputs": []
    },
    {
      "cell_type": "code",
      "source": [
        "data_root = '' # data directory \n",
        "Dataset = keras.preprocessing.image_dataset_from_directory(\n",
        "    directory= data_root, image_size=(128,128), batch_size=32, label_mode=None,\n",
        "    shuffle=True\n",
        ").map(lambda x: (x /127.5)-1)"
      ],
      "metadata": {
        "colab": {
          "base_uri": "https://localhost:8080/"
        },
        "id": "1yofM14eC-hc",
        "outputId": "b452ad50-1996-4cfb-d71b-d27f7bde390c"
      },
      "execution_count": 4,
      "outputs": [
        {
          "output_type": "stream",
          "name": "stdout",
          "text": [
            "Found 12445 files belonging to 1 classes.\n"
          ]
        }
      ]
    },
    {
      "cell_type": "code",
      "source": [
        "# helper function\n",
        "def save_images(epoch, grid_rows=5, grid_columns=5):\n",
        "    noise = tf.random.normal(shape=(grid_rows *grid_columns, seed_dim))\n",
        "    gen_imgs = generator(noise)\n",
        "    gen_imgs = gen_imgs* 0.5 + 0.5\n",
        "\n",
        "    fig, axs = plt.subplots(grid_rows, grid_columns, figsize=(16,16), sharey=True, sharex=True)\n",
        "    plt.subplots_adjust(wspace=0, hspace=0)\n",
        "\n",
        "    cnt = 0\n",
        "    for i in range(grid_rows):\n",
        "      for j in range(grid_columns):\n",
        "        axs[i, j].imshow(gen_imgs[cnt, :,:,:])\n",
        "        axs[i, j].axis('off')\n",
        "        cnt += 1\n",
        "    plt.savefig(f'generated-images-epoch-{epoch}')\n",
        "    plt.close()"
      ],
      "metadata": {
        "id": "2DnDJM-HKdcZ"
      },
      "execution_count": 61,
      "outputs": []
    },
    {
      "cell_type": "markdown",
      "source": [
        "##discriminator"
      ],
      "metadata": {
        "id": "OuJ6BcfCETcN"
      }
    },
    {
      "cell_type": "code",
      "source": [
        "discriminator = keras.Sequential(\n",
        "    [\n",
        "        keras.Input(shape=(128,128,3)),\n",
        "        layers.Conv2D(32, kernel_size=3, strides=2, use_bias=False, padding='same'),\n",
        "        layers.LeakyReLU(0.2),\n",
        "        layers.Dropout(0.25),\n",
        "\n",
        "        layers.Conv2D(64, kernel_size=3, strides=2, use_bias=False, padding='same'),\n",
        "        layers.BatchNormalization(momentum=0.75),\n",
        "        layers.LeakyReLU(0.2),\n",
        "        layers.Dropout(0.25),\n",
        "\n",
        "        layers.Conv2D(128, kernel_size=3, strides=2, use_bias=False, padding='same'),\n",
        "        layers.BatchNormalization(momentum=0.75),\n",
        "        layers.LeakyReLU(0.2),\n",
        "        layers.Dropout(0.25),\n",
        "\n",
        "        layers.Conv2D(128, kernel_size=3, strides=2, use_bias=False, padding='same'),\n",
        "        layers.BatchNormalization(momentum=0.75),\n",
        "        layers.LeakyReLU(0.2),\n",
        "        layers.Dropout(0.25),\n",
        "\n",
        "        layers.Conv2D(256, kernel_size=3, strides=1, use_bias=False, padding='same'),\n",
        "        layers.BatchNormalization(momentum=0.75),\n",
        "        layers.LeakyReLU(0.2),\n",
        "        layers.Dropout(0.25),\n",
        "\n",
        "        layers.Conv2D(256, kernel_size=3, strides=1, use_bias=False, padding='same'),\n",
        "        layers.BatchNormalization(momentum=0.75),\n",
        "        layers.LeakyReLU(0.2),\n",
        "        layers.Dropout(0.25),\n",
        "\n",
        "        layers.Flatten(),\n",
        "        layers.Dense(1, activation='sigmoid')\n",
        "    ]\n",
        ")"
      ],
      "metadata": {
        "id": "x-qpjY7KEjyh"
      },
      "execution_count": 10,
      "outputs": []
    },
    {
      "cell_type": "code",
      "source": [
        "discriminator.summary()"
      ],
      "metadata": {
        "colab": {
          "base_uri": "https://localhost:8080/"
        },
        "id": "_pR5tMveF2D9",
        "outputId": "e1a0c917-78a5-40bf-fae4-ae6350404f42"
      },
      "execution_count": 11,
      "outputs": [
        {
          "output_type": "stream",
          "name": "stdout",
          "text": [
            "Model: \"sequential_2\"\n",
            "_________________________________________________________________\n",
            " Layer (type)                Output Shape              Param #   \n",
            "=================================================================\n",
            " conv2d_6 (Conv2D)           (None, 64, 64, 32)        864       \n",
            "                                                                 \n",
            " leaky_re_lu_10 (LeakyReLU)  (None, 64, 64, 32)        0         \n",
            "                                                                 \n",
            " dropout_5 (Dropout)         (None, 64, 64, 32)        0         \n",
            "                                                                 \n",
            " conv2d_7 (Conv2D)           (None, 32, 32, 64)        18432     \n",
            "                                                                 \n",
            " batch_normalization_9 (Batc  (None, 32, 32, 64)       256       \n",
            " hNormalization)                                                 \n",
            "                                                                 \n",
            " leaky_re_lu_11 (LeakyReLU)  (None, 32, 32, 64)        0         \n",
            "                                                                 \n",
            " dropout_6 (Dropout)         (None, 32, 32, 64)        0         \n",
            "                                                                 \n",
            " conv2d_8 (Conv2D)           (None, 16, 16, 128)       73728     \n",
            "                                                                 \n",
            " batch_normalization_10 (Bat  (None, 16, 16, 128)      512       \n",
            " chNormalization)                                                \n",
            "                                                                 \n",
            " leaky_re_lu_12 (LeakyReLU)  (None, 16, 16, 128)       0         \n",
            "                                                                 \n",
            " dropout_7 (Dropout)         (None, 16, 16, 128)       0         \n",
            "                                                                 \n",
            " conv2d_9 (Conv2D)           (None, 8, 8, 128)         147456    \n",
            "                                                                 \n",
            " batch_normalization_11 (Bat  (None, 8, 8, 128)        512       \n",
            " chNormalization)                                                \n",
            "                                                                 \n",
            " leaky_re_lu_13 (LeakyReLU)  (None, 8, 8, 128)         0         \n",
            "                                                                 \n",
            " dropout_8 (Dropout)         (None, 8, 8, 128)         0         \n",
            "                                                                 \n",
            " conv2d_10 (Conv2D)          (None, 8, 8, 256)         294912    \n",
            "                                                                 \n",
            " batch_normalization_12 (Bat  (None, 8, 8, 256)        1024      \n",
            " chNormalization)                                                \n",
            "                                                                 \n",
            " leaky_re_lu_14 (LeakyReLU)  (None, 8, 8, 256)         0         \n",
            "                                                                 \n",
            " dropout_9 (Dropout)         (None, 8, 8, 256)         0         \n",
            "                                                                 \n",
            " conv2d_11 (Conv2D)          (None, 8, 8, 256)         589824    \n",
            "                                                                 \n",
            " batch_normalization_13 (Bat  (None, 8, 8, 256)        1024      \n",
            " chNormalization)                                                \n",
            "                                                                 \n",
            " leaky_re_lu_15 (LeakyReLU)  (None, 8, 8, 256)         0         \n",
            "                                                                 \n",
            " dropout_10 (Dropout)        (None, 8, 8, 256)         0         \n",
            "                                                                 \n",
            " flatten_1 (Flatten)         (None, 16384)             0         \n",
            "                                                                 \n",
            " dense_2 (Dense)             (None, 1)                 16385     \n",
            "                                                                 \n",
            "=================================================================\n",
            "Total params: 1,144,929\n",
            "Trainable params: 1,143,265\n",
            "Non-trainable params: 1,664\n",
            "_________________________________________________________________\n"
          ]
        }
      ]
    },
    {
      "cell_type": "markdown",
      "source": [
        "##generator"
      ],
      "metadata": {
        "id": "OHDaUfDhfHGD"
      }
    },
    {
      "cell_type": "markdown",
      "source": [
        "**Two common types of layers that can be used in the generator model are a upsample layer (UpSampling2D) that simply doubles the dimensions of the input and the transpose convolutional layer (Conv2DTranspose) that performs an inverse convolution operation**"
      ],
      "metadata": {
        "id": "CYIbhtZZsHbL"
      }
    },
    {
      "cell_type": "code",
      "source": [
        "seed_dim = 90\n",
        "generator = keras.Sequential(\n",
        "    [\n",
        "        keras.Input(shape=(seed_dim,)),\n",
        "        layers.Dense(4* 4* 256),\n",
        "        layers.Reshape((4, 4, 256)),\n",
        "     \n",
        "        layers.Conv2DTranspose(256, kernel_size=3, strides=2, use_bias=False, padding='same'),\n",
        "        layers.BatchNormalization(momentum=0.75),\n",
        "        layers.LeakyReLU(0.2),\n",
        "     \n",
        "        layers.Conv2DTranspose(256, kernel_size=3, strides=2, use_bias=False, padding='same'),\n",
        "        layers.BatchNormalization(momentum=0.75),\n",
        "        layers.LeakyReLU(0.2),\n",
        "\n",
        "        layers.Conv2DTranspose(128, kernel_size=3, strides=2, use_bias=False, padding='same'),\n",
        "        layers.BatchNormalization(momentum=0.75),\n",
        "        layers.LeakyReLU(0.2),\n",
        "\n",
        "        layers.Conv2DTranspose(128, kernel_size=3, strides=2, use_bias=False, padding='same'),\n",
        "        layers.BatchNormalization(momentum=0.75),\n",
        "        layers.LeakyReLU(0.2),\n",
        "     \n",
        "        layers.Conv2DTranspose(128, kernel_size=3, strides=2, use_bias=False, padding='same'),\n",
        "        layers.BatchNormalization(momentum=0.75),\n",
        "        layers.LeakyReLU(0.2),\n",
        "\n",
        "        layers.Conv2D(3, kernel_size=3, padding='same', use_bias=False, activation='tanh')\n",
        "    ]\n",
        ")"
      ],
      "metadata": {
        "id": "ekIH3XmIGACa"
      },
      "execution_count": 12,
      "outputs": []
    },
    {
      "cell_type": "code",
      "source": [
        "generator.summary()"
      ],
      "metadata": {
        "colab": {
          "base_uri": "https://localhost:8080/"
        },
        "id": "w3D0T83MJRrE",
        "outputId": "79ad8f0e-c21f-48de-eb34-acbf8492c3f1"
      },
      "execution_count": 13,
      "outputs": [
        {
          "output_type": "stream",
          "name": "stdout",
          "text": [
            "Model: \"sequential_3\"\n",
            "_________________________________________________________________\n",
            " Layer (type)                Output Shape              Param #   \n",
            "=================================================================\n",
            " dense_3 (Dense)             (None, 4096)              372736    \n",
            "                                                                 \n",
            " reshape_1 (Reshape)         (None, 4, 4, 256)         0         \n",
            "                                                                 \n",
            " conv2d_transpose_5 (Conv2DT  (None, 8, 8, 256)        589824    \n",
            " ranspose)                                                       \n",
            "                                                                 \n",
            " batch_normalization_14 (Bat  (None, 8, 8, 256)        1024      \n",
            " chNormalization)                                                \n",
            "                                                                 \n",
            " leaky_re_lu_16 (LeakyReLU)  (None, 8, 8, 256)         0         \n",
            "                                                                 \n",
            " conv2d_transpose_6 (Conv2DT  (None, 16, 16, 256)      589824    \n",
            " ranspose)                                                       \n",
            "                                                                 \n",
            " batch_normalization_15 (Bat  (None, 16, 16, 256)      1024      \n",
            " chNormalization)                                                \n",
            "                                                                 \n",
            " leaky_re_lu_17 (LeakyReLU)  (None, 16, 16, 256)       0         \n",
            "                                                                 \n",
            " conv2d_transpose_7 (Conv2DT  (None, 32, 32, 128)      294912    \n",
            " ranspose)                                                       \n",
            "                                                                 \n",
            " batch_normalization_16 (Bat  (None, 32, 32, 128)      512       \n",
            " chNormalization)                                                \n",
            "                                                                 \n",
            " leaky_re_lu_18 (LeakyReLU)  (None, 32, 32, 128)       0         \n",
            "                                                                 \n",
            " conv2d_transpose_8 (Conv2DT  (None, 64, 64, 128)      147456    \n",
            " ranspose)                                                       \n",
            "                                                                 \n",
            " batch_normalization_17 (Bat  (None, 64, 64, 128)      512       \n",
            " chNormalization)                                                \n",
            "                                                                 \n",
            " leaky_re_lu_19 (LeakyReLU)  (None, 64, 64, 128)       0         \n",
            "                                                                 \n",
            " conv2d_transpose_9 (Conv2DT  (None, 128, 128, 128)    147456    \n",
            " ranspose)                                                       \n",
            "                                                                 \n",
            " batch_normalization_18 (Bat  (None, 128, 128, 128)    512       \n",
            " chNormalization)                                                \n",
            "                                                                 \n",
            " leaky_re_lu_20 (LeakyReLU)  (None, 128, 128, 128)     0         \n",
            "                                                                 \n",
            " conv2d_12 (Conv2D)          (None, 128, 128, 3)       3456      \n",
            "                                                                 \n",
            "=================================================================\n",
            "Total params: 2,149,248\n",
            "Trainable params: 2,147,456\n",
            "Non-trainable params: 1,792\n",
            "_________________________________________________________________\n"
          ]
        }
      ]
    },
    {
      "cell_type": "markdown",
      "source": [
        "##Train"
      ],
      "metadata": {
        "id": "Gk6tcWcNJo7S"
      }
    },
    {
      "cell_type": "code",
      "source": [
        "opt_gen = keras.optimizers.Adam(2e-4, 0.5)\n",
        "opt_disc = keras.optimizers.Adam(1e-4, 0.5)\n",
        "loss_fn = keras.losses.BinaryCrossentropy()"
      ],
      "metadata": {
        "id": "7Lun-HpCJTqv"
      },
      "execution_count": 14,
      "outputs": []
    },
    {
      "cell_type": "code",
      "source": [
        "dloss, gloss = [], []\n",
        "save_interval = 2500\n",
        "EPOCHS = 10000\n",
        "i = 0\n",
        "for epoch in range(EPOCHS):\n",
        "  for imgs in tqdm(Dataset):\n",
        "    i += 1\n",
        "    batch_size = imgs.shape[0]\n",
        "    noise = tf.random.normal(shape=(batch_size, seed_dim))\n",
        "    gen_imgs = generator(noise)\n",
        "\n",
        "    if i % save_interval == 0:\n",
        "      save_images(epoch)\n",
        "\n",
        "    ## Train Discriminator\n",
        "    with tf.GradientTape() as disc_tape:\n",
        "      '''In GAN, if the discriminator depends on a small set of features to detect real images,\n",
        "      the generator may just produce these features only to exploit the discriminator\n",
        "      To avoid the problem, we penalize the discriminator when the prediction for any real images go beyond 0.9'''\n",
        "      real_label = tf.ones((batch_size, 1)) *tf.constant(0.9)\n",
        "      gen_label = tf.zeros(batch_size, 1)\n",
        "      real_pred_disc = discriminator(imgs)\n",
        "      gen_pred_disc = discriminator(gen_imgs)\n",
        "      \n",
        "      loss_disc_real = loss_fn(real_label, real_pred_disc)\n",
        "      loss_disc_gen = loss_fn(gen_label, gen_pred_disc)\n",
        "      loss_disc = (loss_disc_real + loss_disc_gen)/2\n",
        "      dloss.append(loss_disc.numpy())\n",
        "\n",
        "    grads = disc_tape.gradient(loss_disc, discriminator.trainable_weights)\n",
        "    opt_disc.apply_gradients(\n",
        "        zip(grads, discriminator.trainable_weights)\n",
        "    )\n",
        "\n",
        "    ## Train Generator\n",
        "    with tf.GradientTape() as gen_tape:\n",
        "      gen_imgs = generator(noise)\n",
        "      output = discriminator(gen_imgs)\n",
        "      gen_label = tf.ones(batch_size, 1)\n",
        "      loss_gen = loss_fn(gen_label, output)\n",
        "      gloss.append(loss_gen.numpy())\n",
        "\n",
        "    grads = gen_tape.gradient(loss_gen, generator.trainable_weights)\n",
        "    opt_gen.apply_gradients(\n",
        "        zip(grads, generator.trainable_weights)\n",
        "    )"
      ],
      "metadata": {
        "id": "_t_N2YX9KMLf"
      },
      "execution_count": null,
      "outputs": []
    },
    {
      "cell_type": "code",
      "source": [
        "plt.figure(figsize=(12,6))\n",
        "fig, axes = plt.subplots(nrows=2, ncols=1, figsize=(12, 8))\n",
        "axes[0].plot(gloss, label='generator loss', color='b')\n",
        "axes[0].legend(loc='upper left')\n",
        "axes[1].plot(dloss, label='discriminator loss', color='r')\n",
        "axes[1].legend(loc='upper left')"
      ],
      "metadata": {
        "id": "VB50acPIXysC",
        "colab": {
          "base_uri": "https://localhost:8080/",
          "height": 520
        },
        "outputId": "fc7b268d-8d1d-4d6c-d388-55252f40d7a1"
      },
      "execution_count": 49,
      "outputs": [
        {
          "output_type": "execute_result",
          "data": {
            "text/plain": [
              "<matplotlib.legend.Legend at 0x7f7841887cd0>"
            ]
          },
          "metadata": {},
          "execution_count": 49
        },
        {
          "output_type": "display_data",
          "data": {
            "text/plain": [
              "<Figure size 864x432 with 0 Axes>"
            ]
          },
          "metadata": {}
        },
        {
          "output_type": "display_data",
          "data": {
            "text/plain": [
              "<Figure size 864x576 with 2 Axes>"
            ],
            "image/png": "[encoded data removed]"
          },
          "metadata": {
            "needs_background": "light"
          }
        }
      ]
    },
    {
      "cell_type": "code",
      "source": [
        "generator.save('generator.h5')"
      ],
      "metadata": {
        "id": "NpGmmsz79GDP"
      },
      "execution_count": null,
      "outputs": []
    }
  ]
}